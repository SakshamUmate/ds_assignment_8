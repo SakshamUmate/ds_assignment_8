{
 "cells": [
  {
   "cell_type": "markdown",
   "id": "bc484460-0c96-4732-810d-9f0634850a5f",
   "metadata": {},
   "source": [
    "# Q1. Which function is used to open a file? What are the different modes of opening a file? Explain each mode \n",
    "of file opening."
   ]
  },
  {
   "cell_type": "markdown",
   "id": "b7a75d85-b431-46fd-a408-528071e968f7",
   "metadata": {},
   "source": [
    "In Python, the open() function is used to open a file. The open() function takes two arguments primarily: the file path and the mode in which the file should be opened. The basic syntax is:\n",
    "open(file, mode)"
   ]
  },
  {
   "cell_type": "markdown",
   "id": "27204c62-7fcc-4a3d-82ab-08f01429bd97",
   "metadata": {},
   "source": [
    "\n",
    "mode is an optional string that specifies the mode in which the file\r\n",
    "is opened. It defaults to 'r' which means open for reading in text\r\n",
    "mode.  Other common values are 'w' for writing (truncating the file if\r\n",
    "it already exists), 'x' for creating and writing to a new file, and\r\n",
    "'a' for appending (which on some Unix systems, means that all writes\r\n",
    "append to the end of the file regardless of the current seek posi.\n",
    "'r'       open for reading (default)\r\n",
    "'w'       open for writing, truncating the file first\r\n",
    "'x'       create a new file and open it for writing\r\n",
    "'a'       open for writing, appending to the end of the file if it exists\r\n",
    "'b'       binary mode\r\n",
    "'t'       text mode (default)\r\n",
    "'+'       open a disk file for updating (reading and wr\n",
    "iting)tion)"
   ]
  },
  {
   "cell_type": "code",
   "execution_count": 26,
   "id": "522c7dd6-6f20-4940-b1f9-9c2fc21ac591",
   "metadata": {},
   "outputs": [],
   "source": [
    "# Opening a file in write mode\n",
    "file = open(\"example.txt\", \"w\")\n",
    "\n",
    "# Writing to the file\n",
    "file.write(\"Hello, this is a sample file.\")\n",
    "\n",
    "# Closing the file\n",
    "file.close()\n"
   ]
  },
  {
   "cell_type": "markdown",
   "id": "e82473de-ec0a-4e7c-b0fe-7391a38e4fc6",
   "metadata": {},
   "source": [
    "# Q2. Why close() function is used? Why is it important to close a file?"
   ]
  },
  {
   "cell_type": "markdown",
   "id": "62dfecfb-32f8-49b5-b55c-a7c6f0e50efa",
   "metadata": {},
   "source": [
    "Resource Management:\r\n",
    "\r\n",
    "When you open a file, the operating system allocates resources to manage the connection between your Python program and the file on disk. These resources include file handles and system buffers.\r\n",
    "Failing to close a file means that these resources may not be released immediately, leading to potential issues such as resource exhaustion if you open many files without closing them.\r\n",
    "Data Integrity:\r\n",
    "\r\n",
    "File I/O operations in Python often involve buffering, where data is temporarily stored in memory before being written to the file. Closing the file ensures that any buffered data is properly flushed (written) to the file.\r\n",
    "If you don't close the file, there's a risk that not all data will be written to the file, potentially resulting in data corruption or loss.\r\n",
    "Concurrency and File Locking:\r\n",
    "\r\n",
    "Closing a file allows other processes or programs to access and modify the file. If a file is left open, it might be locked by the operating system or file system, preventing other processes from accessing it.\r\n",
    "Closing the file releases any locks, allowing for proper concurrency and cooperation with other programs that may need to interact with the same file.\r\n",
    "Operating System Limitations:\r\n",
    "\r\n",
    "Some operating systems have limitations on the number of open file handles a process can have. If you open many files without closing them, you may reach these limits, leading to errors when trying to open additional files.\r\n",
    "Clean Code Practices:\r\n",
    "\r\n",
    "Closing a file explicitly makes your code more readable and ensures that other developers (or even yourself in the future) understand when a file is no longer needed.\r\n",
    "Explicitly closing files is a good practice for maintaining clean and maintainable code."
   ]
  },
  {
   "cell_type": "markdown",
   "id": "d7a55145-3528-4937-9780-1e2f97fa24a7",
   "metadata": {},
   "source": [
    "# Q3. Write a python program to create a text file. Write ‘I want to become a Data Scientist’ in that file. Then \n",
    "close the file. Open this file and read the content of the file."
   ]
  },
  {
   "cell_type": "code",
   "execution_count": 27,
   "id": "537c558c-ae9a-4010-b0d6-c0cca52df002",
   "metadata": {},
   "outputs": [
    {
     "data": {
      "text/plain": [
       "'I want to become a Data Scientist.'"
      ]
     },
     "execution_count": 27,
     "metadata": {},
     "output_type": "execute_result"
    }
   ],
   "source": [
    "file = open(\"text.txt\",'w')\n",
    "file.write(\"I want to become a Data Scientist.\")\n",
    "file.close()\n",
    "file = open(\"text.txt\",'r')\n",
    "file.read()"
   ]
  },
  {
   "cell_type": "code",
   "execution_count": 28,
   "id": "197c6eac-1054-4065-a6f2-a7c71bf09c0b",
   "metadata": {},
   "outputs": [],
   "source": [
    "file.close()"
   ]
  },
  {
   "cell_type": "markdown",
   "id": "39b23fe9-b1bb-4b05-9a88-2ee57b0254ff",
   "metadata": {},
   "source": [
    "# Q4. Explain the following with python code: read(), readline() and readlines()."
   ]
  },
  {
   "cell_type": "markdown",
   "id": "1faedc36-6883-44cf-b442-1b39565159b2",
   "metadata": {},
   "source": [
    "In Python, the read(), readline(), and readlines() methods are used for reading data from a file. Here's an explanation of each method along with examples:\r\n",
    "\r\n",
    "1. read()\r\n",
    "The read() method reads the entire contents of the file as a single string."
   ]
  },
  {
   "cell_type": "code",
   "execution_count": 29,
   "id": "811f9043-b7f7-4480-9c64-6ad20d2070c3",
   "metadata": {},
   "outputs": [
    {
     "data": {
      "text/plain": [
       "'I want to become a Data Scientist.'"
      ]
     },
     "execution_count": 29,
     "metadata": {},
     "output_type": "execute_result"
    }
   ],
   "source": [
    "file = open(\"text.txt\",'r')\n",
    "file.read()"
   ]
  },
  {
   "cell_type": "markdown",
   "id": "59cf58ee-279d-4d33-aeb7-db7ab4dbc400",
   "metadata": {},
   "source": [
    "2. readline()\r\n",
    "The readline() method reads a single line from the file. It returns an empty string when it reaches the end of the file."
   ]
  },
  {
   "cell_type": "code",
   "execution_count": 30,
   "id": "5b8513a2-b885-4d07-876e-883f9dce9d01",
   "metadata": {},
   "outputs": [
    {
     "name": "stdout",
     "output_type": "stream",
     "text": [
      "Line 1: I want to become a Data Scientist.\n",
      "Line 2: \n"
     ]
    }
   ],
   "source": [
    "# Open a file in read mode\n",
    "with open(\"text.txt\", \"r\") as file:\n",
    "    # Read the first line\n",
    "    line1 = file.readline()\n",
    "    # Read the second line\n",
    "    line2 = file.readline()\n",
    "\n",
    "# Print the lines\n",
    "print(\"Line 1:\", line1)\n",
    "print(\"Line 2:\", line2)\n"
   ]
  },
  {
   "cell_type": "markdown",
   "id": "9e44e432-bfc0-4b15-b3e2-b01251426d8f",
   "metadata": {},
   "source": [
    "3. readlines()\r\n",
    "The readlines() method reads all the lines of the file and returns them as a list of strings."
   ]
  },
  {
   "cell_type": "code",
   "execution_count": 31,
   "id": "c473b97c-79b3-47cb-b517-f8e08b78414b",
   "metadata": {},
   "outputs": [
    {
     "name": "stdout",
     "output_type": "stream",
     "text": [
      "['I want to become a Data Scientist.']\n"
     ]
    }
   ],
   "source": [
    "with open(\"text.txt\",'r') as file:\n",
    "    l=file.readlines()\n",
    "print(l)    "
   ]
  },
  {
   "cell_type": "markdown",
   "id": "93d5aa71-2d07-4989-823a-d1e2be9a3d77",
   "metadata": {},
   "source": [
    "# Q5. Explain why with statement is used with open(). What is the advantage of using with statement and \n",
    "open() together?"
   ]
  },
  {
   "cell_type": "markdown",
   "id": "b8b23c26-0fc4-4803-b773-f85615f38d39",
   "metadata": {},
   "source": [
    "The with statement in Python is used in conjunction with the open() function to manage the opening and closing of files more efficiently. The primary advantage of using the with statement with open() is that it automatically takes care of resource management and ensures proper cleanup, even if an exception occurs during the execution of the code block.\r\n",
    "\r\n",
    "Here's why the with statement is beneficial with the open() function:\r\n",
    "\r\n",
    "Automatic Resource Management:\r\n",
    "\r\n",
    "The with statement establishes a context and automatically manages the resources associated with the context. For file handling, it ensures that the file is properly opened and closed.\r\n",
    "When the code block within the with statement is entered, the file is opened, and when the block is exited, the file is automatically closed. This helps prevent resource leaks and ensures that file handles are released properly.\r\n",
    "Exception Handling:\r\n",
    "\r\n",
    "If an exception occurs within the with block, the with statement ensures that the __exit__ method of the context manager (in this case, the file object) is called. This allows for proper cleanup operations, such as closing the file, even in the presence of exceptions.\r\n",
    "Without the with statement, you would need to handle exceptions and close the file explicitly, leading to more verbose and error-prone code.\r\n",
    "Readability and Conciseness:\r\n",
    "\r\n",
    "Using the with statement makes the code more readable and concise. It clearly defines the scope in which the file is being used, and developers don't need to worry about explicitly closing the file.\r\n",
    "The code is more Pythonic and follows the principle of context management, making it easier to understand and maintain."
   ]
  },
  {
   "cell_type": "code",
   "execution_count": 32,
   "id": "f3d850fc-7076-4879-ab9d-5bf455609374",
   "metadata": {},
   "outputs": [
    {
     "data": {
      "text/plain": [
       "'I want to become a Data Scientist.'"
      ]
     },
     "execution_count": 32,
     "metadata": {},
     "output_type": "execute_result"
    }
   ],
   "source": [
    "with open(\"text.txt\", \"r\") as file:\n",
    "    data = file.read()\n",
    "    # Process data\n",
    "# File is automatically closed outside the 'with' block\n",
    "data"
   ]
  },
  {
   "cell_type": "markdown",
   "id": "a0ee55d5-0f86-446c-a458-add469ed4dda",
   "metadata": {},
   "source": [
    "# Q6. Explain the write() and writelines() functions. Give a suitable example."
   ]
  },
  {
   "cell_type": "markdown",
   "id": "5a103876-eb53-45bd-8ed5-02a3f740a75e",
   "metadata": {},
   "source": [
    "In Python, the write() and writelines() functions are used for writing data to a file.\r\n",
    "\r\n",
    "1. write()\r\n",
    "The write() method is used to write a string to a file. It writes the specified string to the file, starting from the current file position.\r\n",
    "\r\n",
    "python\r\n"
   ]
  },
  {
   "cell_type": "code",
   "execution_count": 33,
   "id": "227bae83-ddd7-4ece-a21f-7ecff72cd1b8",
   "metadata": {},
   "outputs": [],
   "source": [
    "# Open a file in write mode\n",
    "with open(\"text.txt\", \"w\") as file:\n",
    "    # Write a string to the file\n",
    "    file.write(\"Hello, this is a example file.\\n\")\n",
    "    file.write(\"Writing data using the write() method.\\n\")\n"
   ]
  },
  {
   "cell_type": "markdown",
   "id": "1f2d756e-1f57-46c7-86ce-7feb8ef48dbf",
   "metadata": {},
   "source": [
    " Open a file in write mode\r\n",
    "with open(\"example.txt\", \"w\") as file:\r\n",
    "    # Write a string to the file\r\n",
    "    file.write(\"Hello, this is a sample file.\\n\")\r\n",
    "    file.write(\"Writing data using the write() method.\\n\")\r\n"
   ]
  },
  {
   "cell_type": "code",
   "execution_count": 34,
   "id": "576f2b26-651f-4dc9-a3f5-4cfeb91d6ea6",
   "metadata": {},
   "outputs": [],
   "source": [
    "# Open a file in write mode\n",
    "with open(\"text.txt\", \"w\") as file:\n",
    "    # Write a list of strings to the file\n",
    "    lines = [\"Line 1\\n\", \"Line 2\\n\", \"Line 3\\n\"]\n",
    "    file.writelines(lines)\n"
   ]
  },
  {
   "cell_type": "code",
   "execution_count": null,
   "id": "691571a3-52d4-4d9f-89a8-0c9a8931bd60",
   "metadata": {},
   "outputs": [],
   "source": []
  }
 ],
 "metadata": {
  "kernelspec": {
   "display_name": "Python 3 (ipykernel)",
   "language": "python",
   "name": "python3"
  },
  "language_info": {
   "codemirror_mode": {
    "name": "ipython",
    "version": 3
   },
   "file_extension": ".py",
   "mimetype": "text/x-python",
   "name": "python",
   "nbconvert_exporter": "python",
   "pygments_lexer": "ipython3",
   "version": "3.11.4"
  }
 },
 "nbformat": 4,
 "nbformat_minor": 5
}
